{
  "cells": [
    {
      "cell_type": "markdown",
      "metadata": {
        "id": "view-in-github",
        "colab_type": "text"
      },
      "source": [
        "<a href=\"https://colab.research.google.com/github/jf423/data-intro/blob/main/variables.ipynb\" target=\"_parent\"><img src=\"https://colab.research.google.com/assets/colab-badge.svg\" alt=\"Open In Colab\"/></a>"
      ]
    },
    {
      "cell_type": "markdown",
      "source": [
        "Quiz Module 1: Variables"
      ],
      "metadata": {
        "id": "_027BtfIBV-t"
      }
    },
    {
      "cell_type": "code",
      "source": [
        "username = input(\"Enter your name:\")\n",
        "country = input(\"Enter your country:\")\n",
        "school = input(\"Enter your school:\")\n",
        "location = input(\"Enter the location of your school:\")\n",
        "print(\"My name is \" + username + \" from \"+ country + \" studying at \" + school + \" in \" + location)\n"
      ],
      "metadata": {
        "id": "OLxnPb3FBVQX",
        "outputId": "665d322a-de69-4234-fa0d-2460c8cfca22",
        "colab": {
          "base_uri": "https://localhost:8080/"
        }
      },
      "execution_count": 4,
      "outputs": [
        {
          "output_type": "stream",
          "name": "stdout",
          "text": [
            "Enter your name:Jeffd\n",
            "Enter your country:Taiwan\n",
            "Enter your school:CCTB\n",
            "Enter the location of your school:BC\n",
            "My name is Jeffd from Taiwan studying at CCTB in BC\n"
          ]
        }
      ]
    },
    {
      "cell_type": "code",
      "source": [],
      "metadata": {
        "id": "kUXl8QL9Bc0t"
      },
      "execution_count": null,
      "outputs": []
    }
  ],
  "metadata": {
    "colab": {
      "name": "Welcome To Colab",
      "toc_visible": true,
      "provenance": [],
      "include_colab_link": true
    },
    "kernelspec": {
      "display_name": "Python 3",
      "name": "python3"
    }
  },
  "nbformat": 4,
  "nbformat_minor": 0
}